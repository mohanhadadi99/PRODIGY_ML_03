{
 "cells": [
  {
   "cell_type": "code",
   "execution_count": 1,
   "id": "294adbdb",
   "metadata": {},
   "outputs": [],
   "source": [
    "import os\n",
    "import numpy as np\n",
    "from skimage import io, color, feature, transform\n",
    "from sklearn.model_selection import train_test_split\n",
    "from sklearn.svm import SVC\n",
    "from sklearn.metrics import accuracy_score, classification_report\n"
   ]
  },
  {
   "cell_type": "code",
   "execution_count": 2,
   "id": "289b0802",
   "metadata": {},
   "outputs": [],
   "source": [
    "def load_and_preprocess_data(data_dir, image_size=(100, 100)):\n",
    "    data = []\n",
    "    labels = []\n",
    "\n",
    "    for category in os.listdir(data_dir):\n",
    "        category_path = os.path.join(data_dir, category)\n",
    "        for image_filename in os.listdir(category_path):\n",
    "            image_path = os.path.join(category_path, image_filename)\n",
    "            image = io.imread(image_path)\n",
    "            image = transform.resize(image, image_size)\n",
    "            image = color.rgb2gray(image)\n",
    "            data.append(image)\n",
    "            labels.append(category)\n",
    "\n",
    "    return np.array(data), np.array(labels)\n"
   ]
  },
  {
   "cell_type": "code",
   "execution_count": 3,
   "id": "6d5f1dd8",
   "metadata": {},
   "outputs": [],
   "source": [
    "data_dir = r\"C:\\Users\\Owner\\Desktop\\Prodigy\\Task3\\archive (4)\\dog vs cat\\dataset\\test_set\"\n",
    "X, y = load_and_preprocess_data(data_dir)\n"
   ]
  },
  {
   "cell_type": "code",
   "execution_count": 4,
   "id": "31a71d3c",
   "metadata": {},
   "outputs": [],
   "source": [
    "def extract_hog_features(data):\n",
    "    hog_features = []\n",
    "\n",
    "    for image in data:\n",
    "        hog_feature = feature.hog(image, pixels_per_cell=(8, 8))\n",
    "        hog_features.append(hog_feature)\n",
    "\n",
    "    return np.array(hog_features)\n"
   ]
  },
  {
   "cell_type": "code",
   "execution_count": 5,
   "id": "b4789830",
   "metadata": {},
   "outputs": [],
   "source": [
    "X_hog = extract_hog_features(X)\n"
   ]
  },
  {
   "cell_type": "code",
   "execution_count": 6,
   "id": "9e0efda3",
   "metadata": {},
   "outputs": [],
   "source": [
    "X_train, X_test, y_train, y_test = train_test_split(X_hog, y, test_size=0.2, random_state=42)\n"
   ]
  },
  {
   "cell_type": "code",
   "execution_count": 7,
   "id": "f04e94d4",
   "metadata": {},
   "outputs": [
    {
     "data": {
      "text/plain": [
       "SVC(C=1, kernel='linear')"
      ]
     },
     "execution_count": 7,
     "metadata": {},
     "output_type": "execute_result"
    }
   ],
   "source": [
    "svm = SVC(kernel='linear', C=1)\n",
    "svm.fit(X_train, y_train)\n"
   ]
  },
  {
   "cell_type": "code",
   "execution_count": 8,
   "id": "4c66fe81",
   "metadata": {},
   "outputs": [
    {
     "name": "stdout",
     "output_type": "stream",
     "text": [
      "Accuracy: 0.6525\n",
      "Classification Report:\n",
      "               precision    recall  f1-score   support\n",
      "\n",
      "        cats       0.65      0.66      0.65       199\n",
      "        dogs       0.66      0.65      0.65       201\n",
      "\n",
      "    accuracy                           0.65       400\n",
      "   macro avg       0.65      0.65      0.65       400\n",
      "weighted avg       0.65      0.65      0.65       400\n",
      "\n"
     ]
    }
   ],
   "source": [
    "y_pred = svm.predict(X_test)\n",
    "accuracy = accuracy_score(y_test, y_pred)\n",
    "report = classification_report(y_test, y_pred)\n",
    "\n",
    "print(f\"Accuracy: {accuracy}\")\n",
    "print(\"Classification Report:\\n\", report)\n"
   ]
  }
 ],
 "metadata": {
  "kernelspec": {
   "display_name": "Python 3 (ipykernel)",
   "language": "python",
   "name": "python3"
  },
  "language_info": {
   "codemirror_mode": {
    "name": "ipython",
    "version": 3
   },
   "file_extension": ".py",
   "mimetype": "text/x-python",
   "name": "python",
   "nbconvert_exporter": "python",
   "pygments_lexer": "ipython3",
   "version": "3.9.12"
  }
 },
 "nbformat": 4,
 "nbformat_minor": 5
}
